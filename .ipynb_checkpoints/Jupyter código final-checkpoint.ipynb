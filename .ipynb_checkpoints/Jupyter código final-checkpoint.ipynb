{
 "cells": [
  {
   "cell_type": "markdown",
   "metadata": {},
   "source": [
    "# Explicação das funções criadas\n",
    "\n",
    "<b>Bibliotecas necessárias para importação:</b>"
   ]
  },
  {
   "cell_type": "code",
   "execution_count": null,
   "metadata": {},
   "outputs": [],
   "source": [
    "import pandas as pd\n",
    "import plotly\n",
    "import plotly.graph_objs as go\n",
    "import plotly.tools as tls\n",
    "import folium\n",
    "import matplotlib.pyplot as plt"
   ]
  },
  {
   "cell_type": "markdown",
   "metadata": {},
   "source": [
    "## Funções para leitura e manipulação dos dados:\n",
    "### ler_dados_poços()\n",
    "Esta função realiza a leitura dos dados de qualidade por parâmero e organiza a informação de cada poço em um dicionário (`dados_poços`) de dicionários.\n",
    "\n",
    "* Chaves do dicionário `dados_poços`: `poço` (nomes dos poços - ex: P1)\n",
    "* Chaves do dicionário `poço`: `param` (nomes dos parâmetros)"
   ]
  },
  {
   "cell_type": "code",
   "execution_count": null,
   "metadata": {},
   "outputs": [],
   "source": [
    "def ler_dados_poços():\n",
    "    '''\n",
    "    Leitura dos dados de qualidade por parâmero e organização da informação de cada poço em um dicionário\n",
    "    '''\n",
    "    xls= pd.ExcelFile('dados.xls')\n",
    "    sheets = xls.sheet_names\n",
    "    dic_df_dados = pd.read_excel(xls,sheet_name=None, header=1)\n",
    "    \n",
    "    dados_poços = {}\n",
    "    \n",
    "    parametros = ['STD','Cloreto','Sulfato','Cor','Turbidez','E. Coli','Coliformes totais','Nitrito','Nitrato','pH']\n",
    "    \n",
    "    for i,poço in enumerate(dic_df_dados['STD']['Pontos']):\n",
    "        dados_poços[poço] = {}\n",
    "        for param in parametros:\n",
    "            dados_poços[poço][param] = dic_df_dados[param].loc[i,'Janeiro':'Fevereiro']\n",
    "    return dados_poços"
   ]
  },
  {
   "cell_type": "markdown",
   "metadata": {},
   "source": [
    "### dms_to_dd(d, m, s)\n",
    "Função que retorna coordenadas no formato de graus decimais, a partir dos valores de graus, minutos e segundos recebidos.\n",
    "\n",
    "### manipular_coordenadas()\n",
    "Função que realiza a leitura, manipulações e mudança do formato das coordenadas geográficas de grau, minuto e segundo para grau decimal, retornando um dataframe (`df`) com a latitude e longitude de cada poço."
   ]
  },
  {
   "cell_type": "code",
   "execution_count": null,
   "metadata": {},
   "outputs": [],
   "source": [
    "def dms_to_dd(d, m, s):\n",
    "    '''\n",
    "    Transformação de grau, minuto e segundo em grau decimal\n",
    "    '''\n",
    "    dd = d + float(m)/60 + float(s)/3600\n",
    "    return dd\n",
    "\n",
    "def manipular_coordenadas():\n",
    "    '''\n",
    "    Leitura e mudança do formato das coordenadas geográficas de grau, minuto e segundo para grau\n",
    "    decimal\n",
    "    '''\n",
    "    df = pd.read_excel('coordenadas.xlsx', 0, header=0, index_col=0)\n",
    "\n",
    "    for i in range(len(df['Longitude'])):\n",
    "        lat = df['Latitude'][i]\n",
    "        lon = df['Longitude'][i]\n",
    "        #Uniformizando a escrita das coordenadas:\n",
    "        g_lat, m_lat, s_lat = lat.replace('°',' ').replace(\"''\",'\"').replace(\"'\",' ').replace('\"','').split(' ')\n",
    "        g_lon, m_lon, s_lon = lon.replace('°',' ').replace(\"''\",'\"').replace(\"'\",' ').replace('\"','').split(' ')\n",
    "\n",
    "        #Mudar de coordenadas geográficas grau, minuto, segundo para grau decimal (*(-1) para representar Sul e Oeste):\n",
    "        df['Latitude'][i] = dms_to_dd(int(g_lat),int(m_lat),float(s_lat))*(-1)\n",
    "        df['Longitude'][i] = dms_to_dd(int(g_lon),int(m_lon),float(s_lon))*(-1)\n",
    "    return(df)"
   ]
  },
  {
   "cell_type": "markdown",
   "metadata": {},
   "source": [
    "### calc_stats(dados_poços)\n",
    "Calcula o valor do valor do 3º quartil de cada conjunto de dados de monitoramento dos parâmetros recebidos em `dados_poços`, retornando um dicionário (`stats`) de dicionários.\n",
    "\n",
    "* Chaves do dicionário `stats`: `poço` (nomes dos poços - ex: P1)\n",
    "* Chaves do dicionário `poço`: `param` (nomes dos parâmetros)\n",
    "* Chaves do dicionário `param`: `3º quartil`"
   ]
  },
  {
   "cell_type": "code",
   "execution_count": null,
   "metadata": {},
   "outputs": [],
   "source": [
    "def calc_stats(dados_poços):\n",
    "    '''Cálculo do valor do 3º quartil para cada conjunto de dados'''\n",
    "    df = pd.DataFrame(dados_poços, columns=list(dados_poços.keys()))\n",
    "\n",
    "    stats = {}\n",
    "\n",
    "    for poço in list(df.columns):\n",
    "        stats[poço] = {}\n",
    "        for param in list(df[poço].index):\n",
    "            stats[poço][param] = {}\n",
    "            #Trocar valor não numérico (string no nosso caso) por NaN para poder realizar os cálculos posteriormente:\n",
    "            df[poço][param] = pd.to_numeric(df[poço][param], errors='coerce')\n",
    "            \n",
    "            #Cálculo do valor do 3º quartil:\n",
    "            stats[poço][param]['3º quartil'] = df[poço][param].drop(df[poço][param].index[0]).sort_values().quantile(q=0.75, interpolation='midpoint')\n",
    "    return stats"
   ]
  },
  {
   "cell_type": "markdown",
   "metadata": {},
   "source": [
    "## Classificação da água:\n",
    "\n",
    "### classif_agua(stats, dados_poços)\n",
    "Esta função faz a classificação da água dos poços conforme CONAMA 396/2008 e Portaria do MS 518/2004, a partir dos dados de monitoramento (`dados_poços`) e valores do 3º quartil recebidos (`stats`) recebidos, e dos valores de referência lidos dentro da função.\n",
    "\n",
    "A função retorna um dicionário com a classe de cada poço (`classes_poços`) e um com os valores máximos permitidos mais restritivos (`VMPr_mais`) de cada parâmetro."
   ]
  },
  {
   "cell_type": "code",
   "execution_count": null,
   "metadata": {},
   "outputs": [],
   "source": [
    "def classif_agua(stats, dados_poços):\n",
    "    '''\n",
    "    Esta função faz a classificação da água dos poços conforme CONAMA 396/2008 e Portaria do MS 518/2004.\n",
    "    '''\n",
    "    df_poços = pd.DataFrame(dados_poços, columns=list(dados_poços.keys()))\n",
    "    df_padrões = pd.read_excel('padrões de qualidade.xlsx',0,header=1,index_col=0)\n",
    "    df_vrq = pd.read_excel('VRQ - poços.xlsx',0,header=1, index_col=0)\n",
    "\n",
    "    VMPr_mais = {}\n",
    "    VMPr_menos = {}\n",
    "\n",
    "    for param in list(df_padrões.columns):\n",
    "        '''\n",
    "        Encontrar, entre os padrões de qualidade, o valor máximo permitido mais restritivo (VMPr+)\n",
    "        e o menos restritivo (VMPr-)\n",
    "        '''\n",
    "        VMPr_mais[param] = float(df_padrões[param].min())\n",
    "        VMPr_menos[param] = float(df_padrões[param].max())\n",
    "\n",
    "    classes_poços = {}\n",
    "\n",
    "    #Fazer análise do parâmetro para classificar:\n",
    "    for poço in list(df_poços.columns): \n",
    "        if stats[poço]['Coliformes totais']['3º quartil'] > df_vrq['Coliformes totais'][poço] or (stats[poço]['Nitrato']['3º quartil'] > df_vrq['Nitrato'][poço] and stats[poço]['Nitrato']['3º quartil'] > 10):\n",
    "            for param in list(df_poços[poço].index):\n",
    "                if df_vrq[param][poço] < VMPr_mais[param] and stats[poço][param]['3º quartil'] <= df_vrq[param][poço]:\n",
    "                    classes_poços[poço] = 'Classe 3'\n",
    "                elif df_vrq[param][poço] < VMPr_menos[param] and stats[poço][param]['3º quartil'] <= df_vrq[param][poço]:\n",
    "                    classes_poços[poço] = 'Classe 4'\n",
    "                    break\n",
    "        else:\n",
    "            for param in list(df_poços[poço].index):\n",
    "                if  stats[poço][param]['3º quartil'] <= VMPr_mais[param]:\n",
    "                    if df_vrq[param][poço] <= VMPr_mais[param]:\n",
    "                        classes_poços[poço] = 'Classe 1'\n",
    "                    else:\n",
    "                        classes_poços[poço] = 'Classe 2'\n",
    "                        break \n",
    "    return(classes_poços, VMPr_mais)"
   ]
  },
  {
   "cell_type": "markdown",
   "metadata": {},
   "source": [
    "### supera_mais_r(classes_poços,dados_poços, v_mais)\n",
    "Esta função analisa quais e quantos parâmetros monitorados de cada poço superaram o valor de referência de qualidade para consumo humano (VMPr+), por mês e em todo o período analisado, retornando um dicionário (`supera`) de dicionários.\n",
    "\n",
    "* Chaves do dionário `supera`: `poço` (nomes dos poços - ex: P1)\n",
    "* Chaves do dionário `poço`: 'Superaram' (parâmetros que ficaram pelo menos uma vez fora dos padrões durante o monitoramento); `mês` (mês monitorado)\n",
    "* Chaves do dicionário `mês`: 'Quantidade' (quantidade de parâmetros fora dos padrões no mês); 'Parâmetros' (parâmetros fora do padrão no mês)"
   ]
  },
  {
   "cell_type": "code",
   "execution_count": null,
   "metadata": {},
   "outputs": [],
   "source": [
    "def supera_mais_r(classes_poços,dados_poços, v_mais):\n",
    "    '''\n",
    "    Esta função analisa quais e quantos parâmetros monitorados de cada poço superaram o valor de \n",
    "    referência de qualidade para consumo humano (VMPr+), por mês e em todo o período analisado.\n",
    "    '''\n",
    "    poços = [poço for poço in list(classes_poços.keys()) if classes_poços[poço] != 'Classe 1']\n",
    "\n",
    "    supera = {}\n",
    "\n",
    "    for poço in poços:\n",
    "        supera[poço] = {}\n",
    "        supera[poço]['Superaram'] = []\n",
    "        \n",
    "        for mês in list(dados_poços['P1']['pH'].keys()):\n",
    "            supera[poço][mês] = {'Quantidade':0, 'Parâmetros':[]}\n",
    "            for param in list(dados_poços[poço].keys()):\n",
    "                if dados_poços[poço][param][mês] > v_mais[param]:\n",
    "                    supera[poço][mês]['Quantidade'] += 1\n",
    "                    supera[poço][mês]['Parâmetros'].append(param)\n",
    "                    if param not in supera[poço]['Superaram']:\n",
    "                        supera[poço]['Superaram'].append(param)\n",
    "\n",
    "        #Exluir chave (poço) em que nenhum parâmetro ficou fora do padrão:\n",
    "        if bool(supera[poço]) == False:\n",
    "            del supera[poço]\n",
    "    return(supera)"
   ]
  },
  {
   "cell_type": "markdown",
   "metadata": {},
   "source": [
    "## Vizualização dos resultados:\n",
    "\n",
    "### grafico_polar(supera, poço)\n",
    "Função que cria um gráfico polar informando a quantidade de parâmetros monitorados que superaram o valor de referência para consumo humano (VMPr+), por mês, do poço."
   ]
  },
  {
   "cell_type": "code",
   "execution_count": null,
   "metadata": {},
   "outputs": [],
   "source": [
    "def grafico_polar(supera, poço):\n",
    "    '''\n",
    "    Esta função cria um gráfico polar que informa a quantidade de parâmetros monitorados \n",
    "    que superaram o valor de referência para consumo humano (VMPr+), por mês, do poço.\n",
    "    '''\n",
    "    meses = [mês for mês in list(supera[poço].keys()) if mês != 'Superaram']\n",
    "\n",
    "    #Renomear nome do mês para ter também o ano de monitoramento:\n",
    "    mes_ano = []\n",
    "    for mês in meses:\n",
    "        if mês == 'Fevereiro':\n",
    "            mes_ano.append('Fevereiro/2010')\n",
    "        else:\n",
    "            mes_ano.append('{}/2009'.format(mês))\n",
    "\n",
    "    #Salvar quantidade de parâmetros fora dos padrões, por mês, em uma lista:\n",
    "    quant = []\n",
    "    for mês in meses:\n",
    "        quant.append(supera[poço][mês]['Quantidade'])\n",
    "\n",
    "    #Salvar nomes dos parâmetros fora dos padrões, por mês, em uma lista:\n",
    "    params = []\n",
    "    for mês in meses:\n",
    "        params.append('Parâmetros: {}'.format(', '.join(list(supera[poço][mês].values())[1])))\n",
    "    \n",
    "    #Gráfico polar:\n",
    "    data = [\n",
    "        go.Scatterpolar(\n",
    "            r = quant,\n",
    "            theta = mes_ano,\n",
    "            text = params,\n",
    "            mode = 'markers',\n",
    "            marker = dict(\n",
    "                color = '#00BFFF',\n",
    "                size = 8\n",
    "            )\n",
    "        )\n",
    "    ]\n",
    "    layout = go.Layout(showlegend = False, \n",
    "        title = 'Poço {} - Quantidade de parâmetros de qualidade da água que superaram o valor de referência para consumo humano'.format(poço))\n",
    "    fig = go.Figure(data=data, layout=layout)\n",
    "    plotly.offline.plot(fig, filename = '../graficos/polar_{}.html'.format(poço), auto_open=False)"
   ]
  },
  {
   "cell_type": "markdown",
   "metadata": {},
   "source": [
    "### boxplots(dados_poços, supera, poço)\n",
    "Função que gera um gráfico boxplot para cada conjunto de parâmetros do poço que ficou fora dos padrões.\n",
    "\n",
    "### graficos_temp(dados_poços, supera, poço)\n",
    "Esta função gera um gráfico para cada conjunto de parâmetros do poço, no tempo, que ficou fora dos padrões."
   ]
  },
  {
   "cell_type": "code",
   "execution_count": null,
   "metadata": {},
   "outputs": [],
   "source": [
    "def boxplots(dados_poços, supera, poço):\n",
    "    '''\n",
    "    Esta função gera um gráfico boxplot para cada conjunto de parâmetros do poço que ficou fora \n",
    "    dos padrões.\n",
    "    '''\n",
    "    for param in supera[poço]['Superaram']:\n",
    "        dados = [go.Box(\n",
    "            y=list(dados_poços[poço][param]),\n",
    "            name = param\n",
    "            )]\n",
    "        fig = go.Figure(data=dados)\n",
    "        plotly.offline.plot(fig, filename='../graficos/boxplot_{}_{}.html'.format(param,poço), auto_open=False)\n",
    "        \n",
    "def graficos_temp(dados_poços, supera, poço):\n",
    "    '''\n",
    "    Esta função gera um gráfico para cada conjunto de parâmetros do poço, no tempo, \n",
    "    que ficou fora dos padrões.\n",
    "    '''\n",
    "    for param in supera[poço]['Superaram']:\n",
    "        dados = [go.Scatter(\n",
    "            x = list(dados_poços[poço][param].keys()),\n",
    "            y = list(dados_poços[poço][param]),\n",
    "            mode = 'markers',\n",
    "            marker = dict(\n",
    "                color = '#00BFFF',\n",
    "                size = 10))]\n",
    "        layout = go.Layout(showlegend = False, \n",
    "        title = 'Poço {} - {}: Dados de monitoramento de janeiro de 2009 a fevereiro de 2010'.format(poço,param))\n",
    "        fig = go.Figure(data=dados,layout=layout)\n",
    "        plotly.offline.plot(fig, filename='../graficos/temporal_{}_{}.html'.format(param,poço), auto_open=False)"
   ]
  },
  {
   "cell_type": "markdown",
   "metadata": {},
   "source": [
    "### map_whells(df_coordenadas,classes,dados_poços,supera)\n",
    "Criação de um mapa intevativo baseado na localização dos poços e que fornece como informações o nome de cada posto, sua classe e sua localização (latitude e longitude). Também permite o acesso aos gráficos polar de cada poço, e os boxplots e temporais dos parâmetros que ficaram fora dos padrões ao menos uma vez durante o monitoramento."
   ]
  },
  {
   "cell_type": "code",
   "execution_count": null,
   "metadata": {},
   "outputs": [],
   "source": [
    "def map_whells(df_coordenadas,classes,dados_poços,supera):\n",
    "    '''\n",
    "    Esta função gera o mapa com a localização e informações dos poços monitorados.\n",
    "    '''\n",
    "    #Criação do mapa passando as coordenadas do poço P6, por ser um poço central, apenas para melhor visualização ao inserir os demais:\n",
    "    mapa = folium.Map(location=[df_coordenadas['Latitude']['P6'] ,df_coordenadas['Longitude']['P6']],zoom_start=12)\n",
    "    \n",
    "    for poço in classes.keys():\n",
    "        #Informações a serem apresentadas ao clicar nos poços em um pop-up:    \n",
    "        html_info = \"\"\"\n",
    "        <h5> <b>Dados do Poço</b></h5>\n",
    "        <p><big><b> Nome: </b>{}</big><\\p>\n",
    "        <p><big><b> Classe: </b>{}</big><\\p>\n",
    "        <p><big><b> Latitude: </b>{}</big><\\p>\n",
    "        <p><big><b> Longitude: </b>{}</big><\\p>\n",
    "        <p><b> Parâmetros fora dos padrões para consumo humando: </b></p>\n",
    "        <p><a href=\"{}\", target = blank > Gráfico polar </a></p>\n",
    "        <p>Gráficos boxplot:</p>\n",
    "        \"\"\".format(\n",
    "        poço,\n",
    "        classes[poço], \n",
    "        df_coordenadas['Latitude'][poço],\n",
    "        df_coordenadas['Longitude'][poço],\n",
    "        '../graficos/polar_{}.html'.format(poço)\n",
    "        )\n",
    "        for param in supera[poço]['Superaram']:\n",
    "            html_info += '<a href=\"../graficos/boxplot_{}_{}.html\", target = blank > {} </a>'.format(param,poço,param)\n",
    "        html_info += '<p>Dados de monitoramento:</p>'\n",
    "        for param in supera[poço]['Superaram']:\n",
    "            html_info += '<a href=\"../graficos/temporal_{}_{}.html\", target = blank > {} </a>'.format(param,poço,param)\n",
    "        \n",
    "        #Inserir poço no mapa:\n",
    "        cores = {'Classe 1':'lightblue','Classe 2':'blue','Classe 3':'lightgray','Classe 4':'gray'}\n",
    "        folium.Marker([df_coordenadas['Latitude'][poço],df_coordenadas['Longitude'][poço]],popup=html_info,\n",
    "        icon=folium.Icon(color=cores[classes[poço]])).add_to(mapa)\n",
    "    \n",
    "    mapa.save('mapa.html')"
   ]
  },
  {
   "cell_type": "markdown",
   "metadata": {},
   "source": [
    "## Rodar o programa"
   ]
  },
  {
   "cell_type": "code",
   "execution_count": null,
   "metadata": {},
   "outputs": [],
   "source": [
    "if __name__ == \"__main__\":\n",
    "    #Leitura e tratamento dos dados:\n",
    "    dados_poços = ler_dados_poços()\n",
    "    stats = calc_stats(dados_poços)\n",
    "    df_coordenadas = manipular_coordenadas()\n",
    "\n",
    "    #Classificação das águas dos poços e verificação de parâmetros fora dos padrões:\n",
    "    classes, v_mais = classif_agua(stats, dados_poços)\n",
    "    supera = supera_mais_r(classes, dados_poços, v_mais)\n",
    "\n",
    "    #Gerar gráficos e mapa:\n",
    "    for poço in list(supera.keys()):\n",
    "        grafico_polar(supera, poço)\n",
    "        boxplots(dados_poços, supera, poço)\n",
    "        graficos_temp(dados_poços, supera, poço)\n",
    "    map_whells(df_coordenadas, classes, dados_poços, supera)"
   ]
  }
 ],
 "metadata": {
  "kernelspec": {
   "display_name": "Python 3",
   "language": "python",
   "name": "python3"
  },
  "language_info": {
   "codemirror_mode": {
    "name": "ipython",
    "version": 3
   },
   "file_extension": ".py",
   "mimetype": "text/x-python",
   "name": "python",
   "nbconvert_exporter": "python",
   "pygments_lexer": "ipython3",
   "version": "3.6.4"
  }
 },
 "nbformat": 4,
 "nbformat_minor": 2
}
