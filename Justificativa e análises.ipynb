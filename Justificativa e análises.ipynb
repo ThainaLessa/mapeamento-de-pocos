{
 "cells": [
  {
   "cell_type": "markdown",
   "metadata": {},
   "source": [
    "<h1 align=\"center\">MAPEAMENTO DA QUALIDADE DA ÁGUA DE POÇOS</h1>\n",
    "\n",
    "<h2>Justificativa</h2>\n",
    "\n",
    "<ul>    \n",
    "<li style=\"color:#4865A9\"><span style=\"color:#000\"><p style=\"text-align:justify\">Águas subterrâneas: importante reserva de água doce no mundo; mais abundante que os mananciais superficiais (Figura 1).</p></span></li>\n",
    "</ul>\n",
    "<img src=\"./imagens/Água na Terra.png\" width=\"65%\" height=\"65%\"/>\n",
    "<p style=\"text-align:center\">Figura 1. Distribuição da água na Terra. Fonte: MMA, 2007.</p>\n",
    "\n",
    "<ul>\n",
    "<li style=\"color:#4865A9\"><span style=\"color:#000\"><p style=\"text-align:justify\">Vantagens em relação à captação de águas superficiais: são filtradas e purificadas naturalmente através da percolação, possibilitando uma melhor qualidade e dispensando, muitas vezes, tratamentos prévios; podem ser captadas próximo ou no local de uso, reduzindo o custo de adução; menor vulnerabilidade à poluição; menor impacto ambiental gerado pelo poço em comparação à construção de barragem; entre outras.</p></span></li>\n",
    "</ul>\n",
    "\n",
    "<ul>\n",
    "<li style=\"color:#4865A9\"><span style=\"color:#000\"><p style=\"text-align:justify\">Devido as suas vantagens e abundância, em muitas regiões do mundo a água subterrânea já apontada como a principal fonte de abastecimento. No Brasil, essa forma de abastecimento é indispensável e distribuída em todo o território. E, no município de Maceió, estado de Alagoas, de acordo com a Companhia de Saneamento de Alagoas – Casal, cerca de 68% do abastecimento de água é originado dessas fontes (Casal, 2018). Na Figura 2 são apresentados os poços perfurados que foram cadastrados, em algumas regiões do estado, destacando-se o município citado (SIAGAS, 2018).</p></span></li>\n",
    "</ul>\n",
    "<img src=\"./imagens/Poços Brasil_Maceió.png\" width=\"95%\" height=\"95%\"/>\n",
    "<p style=\"text-align:center\">Figura 2. Poços perfurados no município de Maceió-AL. Fonte: Adaptada de SIAGAS, 2018.</p>\n",
    "\n",
    "<ul>\n",
    "<li style=\"color:#4865A9\"><span style=\"color:#000\"><p style=\"text-align:justify\">Poluição e falta de monitoramento da qualidade da água leva ao aparecimento de doenças na população relacionadas à sua contaminação, como cólera, diarreia e hepatite A (Figura 3).</p></span></li>\n",
    "</ul>\n",
    "<img src=\"./imagens/poluição1.png\" width=\"75%\" height=\"75%\"/>\n",
    "<p style=\"text-align:center\">Figura 3. Contaminação da águas subterrâneas e consequências à saúde humana.</p>\n",
    "\n",
    "<ul>\n",
    "<li style=\"color:#4865A9\"><span style=\"color:#000\"><p style=\"text-align:justify\">É essencial que haja um monitoramento da qualidade da água desses mananciais subterrâneos, de forma a auxiliar sua gestão e poder garantir suas funções: social, econômica e ambiental; bem como tranquilizar a população a respeito da água que chega em sua casa.</p></span></li>\n",
    "</ul>"
   ]
  },
  {
   "cell_type": "markdown",
   "metadata": {},
   "source": [
    "<h2>Objetivo</h2>\n",
    "\n",
    "<p style=\"text-align:justify\">O trabalho desenvolvido tem como principal objetivo realizar um mapeamento da qualidade da água de poços do município de Maceió-AL.</p>"
   ]
  },
  {
   "cell_type": "markdown",
   "metadata": {},
   "source": [
    "<h2>Metodologia</h2>\n",
    "\n",
    "<p style=\"text-align:justify\">Utilizando dados de monitoramento de 18 poços do município de Maceió-AL, referentes ao projeto de pesquisa intitulado “Integração dos instrumentos de outorga, enquadramento e cobrança para a gestão das águas subterrâneas - ASUB”, será verificada a qualidade da água de cada um deles. As séries de monitoramento consistem em dados de 14 parâmetros de qualidade de água, para o período de janeiro de 2009 a fevereiro de 2010, sendo assim, para alcançar o objetivo proposto será realizada a metodologia apresentada no esquema da Figura 4.</p>\n",
    "\n",
    "<img src=\"./imagens/metodologia1.png\" width=\"58%\" height=\"58%\"/>\n",
    "<p style=\"text-align:center\">Figura 4. Esquema da metodologia utilizada.</p>\n",
    "\n",
    "<p style=\"text-align:justify\">Para as etapas de manipulação de dados e elaboração do mapeamento será desenvolvido um programa utilizando a linguagem Python e suas bibliotecas, além da construção de um banco de dados (Figura 5).</p>\n",
    "\n",
    "<img src=\"./imagens/fluxograma programa1.png\" width=\"55%\" height=\"55%\"/>\n",
    "<p style=\"text-align:center\">Figura 5. Fluxograma do programa.</p>"
   ]
  },
  {
   "cell_type": "markdown",
   "metadata": {},
   "source": [
    "<h2>Resultados esperados</h2>\n",
    "\n",
    "<ul>\n",
    "    \n",
    "<li style=\"color:#4865A9\"><span style=\"color:#000\">Mapeamento da situação da qualidade da água de poços (exemplo na Figura 6);</span></li>\n",
    "</ul>\n",
    "\n",
    "<img src=\"./imagens/mapa_exemplo1.png\" width=\"60%\" height=\"60%\"/>\n",
    "<p style=\"text-align:center\">Figura 6. Mapeamento da qualidade da água de poços. Em verde e vermelho são representados os poços com qualidade dentro e fora dos padrões, respectivamente.</p>\n",
    "\n",
    "<ul>\n",
    "<li style=\"color:#4865A9\"><span style=\"color:#000\">Indicativo de sazonalidade, ou não, na mudança da qualidade da água;</span></li>   \n",
    "<li style=\"color:#4865A9\"><span style=\"color:#000\">Classificação atual da água de cada poço.</span></li>\n",
    "</ul>"
   ]
  },
  {
   "cell_type": "markdown",
   "metadata": {},
   "source": [
    "<h2>Referências</h2>\n",
    "\n",
    "<p>BRASIL. Resolução CONAMA n° 396. Dispõe sobre a classificação e diretrizes ambientais para o enquadramento das águas subterrâneas e dá outras providências. 2008.</p>\n",
    "<p>COMPANHIA DE SANEAMENTO DE ALAGOAS - Casal. Áreas abastecidas. Disponível em: <a href=\"http://www.casal.al.gov.br/capital/\">http://www.casal.al.gov.br/capital/</a>. Acesso em: Mar.2018.</p>\n",
    "<p>CLEARY, Robert W. Águas Subterrâneas. Clean Environment Brasil. 1989. Disponível em: <a href= \"http://www.clean.com.br/Menu_Artigos/cleary.pdf\">http://www.clean.com.br/Menu_Artigos/cleary.pdf</a>. Acesso em: Mar.2018.</p>\n",
    "<p>MINISTÉRIO DO MEIO AMBIENTE - MMA. Águas Subterrâneas: um recurso a ser conhecido e protegido. 2007. Disponível em: <a href= \"http://www.mma.gov.br/estruturas/167/_publicacao/167_publicacao28012009044356.pdf\">http://www.mma.gov.br/estruturas/167/_publicacao/167_publicacao28012009044356.pdf</a>. Acesso em: Mar.2018.</p>\n",
    "<p>SISTEMA DE INFORMAÇÕES DE ÁGUAS SUBTERRÂNEAS - SIAGAS. Disponível em: <a href=\"http://siagasweb.cprm.gov.br/layout/visualizar_mapa.php\">http://siagasweb.cprm.gov.br/layout/visualizar_mapa.php</a> Acesso em: Mar.2018.</p>"
   ]
  }
 ],
 "metadata": {
  "kernelspec": {
   "display_name": "Python 3",
   "language": "python",
   "name": "python3"
  },
  "language_info": {
   "codemirror_mode": {
    "name": "ipython",
    "version": 3
   },
   "file_extension": ".py",
   "mimetype": "text/x-python",
   "name": "python",
   "nbconvert_exporter": "python",
   "pygments_lexer": "ipython3",
   "version": "3.6.4"
  }
 },
 "nbformat": 4,
 "nbformat_minor": 2
}
