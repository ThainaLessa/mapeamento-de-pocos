{
 "cells": [
  {
   "cell_type": "markdown",
   "metadata": {},
   "source": [
    "<b>Bibliotecas necessárias para importação:</b>"
   ]
  },
  {
   "cell_type": "code",
   "execution_count": null,
   "metadata": {},
   "outputs": [],
   "source": [
    "import pandas as pd\n",
    "import plotly\n",
    "import plotly.graph_objs as go\n",
    "import plotly.tools as tls\n",
    "import folium\n",
    "import matplotlib.pyplot as plt"
   ]
  },
  {
   "cell_type": "markdown",
   "metadata": {},
   "source": [
    "<b>Manipulação dos dados primários:</b>\n",
    "   <p><i>Leitura dos dados de qualidade por parâmero e organização da informação de cada poço em um dicionário</i></p>"
   ]
  },
  {
   "cell_type": "code",
   "execution_count": null,
   "metadata": {},
   "outputs": [],
   "source": [
    "def ler_dados_poços():\n",
    "    \n",
    "    xls= pd.ExcelFile('dados.xls')\n",
    "    dic_df_dados = pd.read_excel(xls,sheet_name=None, header=1)\n",
    "    \n",
    "    dados_poços = {}\n",
    "    \n",
    "    parametros = ['STD','Cloreto','Sulfato','Cor','Turb','E. Coli','Coliformes totais','Nitrito','Nitrato','pH']\n",
    "    \n",
    "    for i,poço in enumerate(dic_df_dados['STD']['Pontos']):\n",
    "        \n",
    "        dados_poços[poço] = {}\n",
    "        \n",
    "        for num_param in parametros:\n",
    "            \n",
    "            dados_poços[poço][num_param] = dic_df_dados[num_param].loc[i,'Janeiro':'Fevereiro']\n",
    "    \n",
    "    return dados_poços"
   ]
  },
  {
   "cell_type": "markdown",
   "metadata": {},
   "source": [
    "<b>Mapa interativo:</b>\n",
    "   <p><i>Criação de um mapa intevativo baseado na localização dos poços e que fornece como informações o nome de cada posto,sua classe e sua localização (latitude e longitude) </i></p>"
   ]
  },
  {
   "cell_type": "code",
   "execution_count": null,
   "metadata": {},
   "outputs": [],
   "source": [
    "def map_whells(df_coordenadas,classes,dados_poços):\n",
    "    \n",
    "    #print(list(df_coordenadas['Poço']))\n",
    "    m=folium.Map(location=[df_coordenadas['Latitude'][0] ,df_coordenadas['Longitude'][0]],zoom_start=12)\n",
    "    #list(df_coordenadas['Poço'])\n",
    "    labels = df_coordenadas['Poço'].values.tolist()\n",
    "    #for i,poço in enumerate(labels):\n",
    "    for i in range(len(df_coordenadas['Longitude'])):\n",
    "        for poço in classes.keys():\n",
    "       #popup=folium.Popup(labels[i], parse_html=True)\n",
    "           html_info = \"\"\"\n",
    "           <h5> <b>Dados do Posto</b></h5>\n",
    "           <p> <big><b>Nome: </b>{}</big><\\p>\n",
    "           <p> </big><b>Classe: </b> {} </big><\\p>\n",
    "           <p> </big><b>Latitude: </b>{} </big><\\p>\n",
    "           <p> </big><b>Longitude: </b> {} </big><\\p>\n",
    "           \"\"\".format(\n",
    "           labels[i],\n",
    "           classes[poço], \n",
    "           df_coordenadas['Latitude'][i],\n",
    "           df_coordenadas['Longitude'][i]\n",
    "           )\n",
    "           folium.Marker([df_coordenadas['Latitude'][i],df_coordenadas['Longitude'][i]],\n",
    "                          popup=html_info\n",
    "                          ).add_to(m)\n",
    "    \n",
    "    m.save('index.html')"
   ]
  }
 ],
 "metadata": {
  "kernelspec": {
   "display_name": "Python 3",
   "language": "python",
   "name": "python3"
  },
  "language_info": {
   "codemirror_mode": {
    "name": "ipython",
    "version": 3
   },
   "file_extension": ".py",
   "mimetype": "text/x-python",
   "name": "python",
   "nbconvert_exporter": "python",
   "pygments_lexer": "ipython3",
   "version": "3.6.4"
  }
 },
 "nbformat": 4,
 "nbformat_minor": 2
}
