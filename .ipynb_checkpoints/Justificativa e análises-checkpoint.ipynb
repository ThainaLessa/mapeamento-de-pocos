{
 "cells": [
  {
   "cell_type": "markdown",
   "metadata": {},
   "source": [
    "<h1 align=\"center\">MAPEAMENTO DA QUALIDADE DA ÁGUA DE POÇOS</h1>\n",
    "\n",
    "<h2>Justificativa</h2>\n",
    "\n",
    "<p style=\"text-align:justify\">A água subterrânea geralmente é uma fonte de água mais segura e confiável que a água superficial, no entanto, quando contaminada, tem um custo muito mais alto de recuperação, além de exigir um tempo muito longo nesse processo. É encontrada em reservatórios naturais subterrâneos, chamados de aquíferos, que facilitam seu aproveitamento de forma difusa no espaço, mas que tem sua disponibilidade limitada diretamente pela capacidade de recarga.</p>\n",
    "\n",
    "<p style=\"text-align:justify\">Devido às suas inúmeras vantagens em relação à captação de águas superficiais, como a redução do custo de adução, geralmente possuir melhor qualidade, menor vulnerabilidade à poluição e menor impacto ambiental gerado pelo poço em comparação à construção de barragem; os mananciais subterrâneos têm sido cada vez mais usados como complementares aos superficiais em muitas regiões, sendo em outras a água subterrânea já apontada como a principal fonte de abastecimento.</p>\n",
    "\n",
    "<p style=\"text-align:justify\">No Brasil, estima-se que a demanda de água corresponde a cerca de 3% do potencial subterrâneo do país, sendo que mais de 95% de toda a água doce disponível do país está armazenada em reservas aquíferas, somadas em aproximadamente 111.661 km³ (CLEARY, 1989). Assim, no país essa forma de abastecimento é indispensável e distribuída em todo o território, como pode ser observado na figura a seguir. Já no município de Maceió, estado de Alagoas, de acordo com a Companhia de Saneamento de Alagoas – Casal, cerca de 68% do abastecimento de água é originado dessas fontes (Casal, 2018).</p>\n",
    "\n",
    "<img src=\"./imagens/poços Brasil.png\" width=\"60%\" height=\"60%\"/>\n",
    "<p style=\"text-align:center\"><font size=\"2\">Poços perfurados no Brasil, em escala 1:32000000. Fonte: SIAGAS (2018) – CPRM</font></p>\n",
    "\n",
    "<p style=\"text-align:justify\">No entanto, a falta de gestão adequada, baseada em estudos sobre a qualidade e quantidade de água subterrânea disponível, pode acarretar em problemas e seu comprometimento para exploração. Nesse sentido, é essencial que haja um monitoramento e acompanhamento da qualidade da água desses mananciais subterrâneos, de forma a auxiliar sua gestão e poder garantir suas funções: social, econômica e ambiental; bem como tranquilizar a população a respeito da água que chega em sua casa.</p>"
   ]
  },
  {
   "cell_type": "markdown",
   "metadata": {},
   "source": [
    "<h2>Objetivos</h2>\n",
    "\n",
    "<p style=\"text-align:justify\">O trabalho desenvolvido tem como principal objetivo analisar a qualidade da água de poços do município de Maceió-AL e realizar um mapeamento com esse indicativo.</p>\n",
    "\n",
    "<img src=\"http://www.aquecedorsolaragua.com.br/blog/wp-content/uploads/2016/03/7.png\" width=\"50%\" height=\"50%\"/>"
   ]
  },
  {
   "cell_type": "markdown",
   "metadata": {},
   "source": [
    "<h2>Metodologia</h2>\n",
    "\n",
    "<p style=\"text-align:justify\">Utilizando dados de monitoramento de 18 poços do município de Maceió-AL, referentes ao projeto de pesquisa intitulado “Integração dos instrumentos de outorga, enquadramento e cobrança para a gestão das águas subterrâneas - ASUB”, será verificada a qualidade da água de cada um deles. As séries de monitoramento consistem em dados de 14 parâmetros de qualidade de água, para o período de janeiro de 2009 a fevereiro de 2010, sendo assim, para alcançar o objetivo proposto será realizada a metodologia apresentada no esquema da figura.</p>\n",
    "\n",
    "<img src=\"./imagens/metodologia1.png\" width=\"58%\" height=\"58%\"/>\n",
    "<p style=\"text-align:center\"><font size=\"2\">Esquema da metodologia utilizada.</font></p>\n",
    "\n",
    "<p style=\"text-align:justify\">Para as etapas de manipulação de dados e elaboração do mapeamento será desenvolvido um programa utilizando a linguagem Python e suas bibliotecas, além da construção de um banco de dados.</p>\n",
    "\n",
    "<img src=\"./imagens/resumo_análise.png\" width=\"80%\" height=\"80%\"/>\n",
    "<p style=\"text-align:center\"><font size=\"2\">Resumo da parte de programação e ferramentas utilizadas.</font></p>"
   ]
  },
  {
   "cell_type": "markdown",
   "metadata": {},
   "source": [
    "<h2>Resultados esperados</h2>\n",
    "\n",
    "<ul>\n",
    "    \n",
    "<li style=\"color:#4865A9\"><span style=\"color:#000\">Mapeamento da situação da qualidade da água de poços (exemplo na figura);</span></li>\n",
    "\n",
    "</ul>\n",
    "<img src=\"./imagens/mapa_exemplo1.png\" width=\"60%\" height=\"60%\"/>\n",
    "<p style=\"text-align:center\"><font size=\"2\">Visualização da qualidade da água de poços, em mapa.</font></p>\n",
    "\n",
    "<ul>\n",
    "    \n",
    "<li style=\"color:#4865A9\"><span style=\"color:#000\">Classificação dos parâmetros e indicativo do uso preponderante do poço.</span></li>\n",
    "\n",
    "</ul>"
   ]
  },
  {
   "cell_type": "markdown",
   "metadata": {},
   "source": [
    "<h2>Referências</h2>\n",
    "\n",
    "<p>BRASIL. Resolução CONAMA n° 396. Dispõe sobre a classificação e diretrizes ambientais para o enquadramento das águas subterrâneas e dá outras providências. 2008.</p>\n",
    "<p>COMPANHIA DE SANEAMENTO DE ALAGOAS - Casal. Áreas abastecidas. Disponível em: <a href=\"http://www.casal.al.gov.br/capital/\">http://www.casal.al.gov.br/capital/</a>. Acesso em: Mar.2018.</p>\n",
    "<p>CLEARY, Robert W. Águas Subterrâneas. Clean Environment Brasil. 1989. Disponível em: <a href= \"http://www.clean.com.br/Menu_Artigos/cleary.pdf\">http://www.clean.com.br/Menu_Artigos/cleary.pdf</a>. Acesso em: Mar.2018.</p>\n",
    "<p>SISTEMA DE INFORMAÇÕES DE ÁGUAS SUBTERRÂNEAS - SIAGAS. Disponível em: <a href=\"http://siagasweb.cprm.gov.br/layout/visualizar_mapa.php\">http://siagasweb.cprm.gov.br/layout/visualizar_mapa.php</a> Acesso em: Mar.2018.</p>"
   ]
  }
 ],
 "metadata": {
  "kernelspec": {
   "display_name": "Python 3",
   "language": "python",
   "name": "python3"
  },
  "language_info": {
   "codemirror_mode": {
    "name": "ipython",
    "version": 3
   },
   "file_extension": ".py",
   "mimetype": "text/x-python",
   "name": "python",
   "nbconvert_exporter": "python",
   "pygments_lexer": "ipython3",
   "version": "3.6.4"
  }
 },
 "nbformat": 4,
 "nbformat_minor": 2
}
