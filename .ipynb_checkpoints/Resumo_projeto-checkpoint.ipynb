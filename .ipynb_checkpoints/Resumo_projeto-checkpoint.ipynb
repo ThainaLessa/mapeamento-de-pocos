{
 "cells": [
  {
   "cell_type": "markdown",
   "metadata": {
    "slideshow": {
     "slide_type": "slide"
    }
   },
   "source": [
    "<img src=\"http://www.aquecedorsolaragua.com.br/blog/wp-content/uploads/2016/03/7.png\" width=\"60%\" height=\"60%\"/>\n",
    "\n",
    "<h1 align=\"center\">MAPEAMENTO DA QUALIDADE DA ÁGUA DE POÇOS</h1>\n",
    "\n",
    "<p style=\"text-align:justify\">Projeto desenvolvido durante a disciplina de <b>Introdução à Ciência de Dados</b>, ministrada pelo professor doutor <a href=\"https://sites.google.com/site/souzacfufal/introducao-a\">Christopher Freire Souza</a> para os cursos de Engenharia Ambiental e Santária e Engenharia Civil do Centro de Tecnologia (CTEC) da Universidade Federal de Alagoas (Ufal).</p>\n",
    "\n",
    "<br />\n",
    "<p style=\"text-align:justify\">Você já parou para se perguntar <i>de onde vem</i> a água que sai da sua torneira? E a água que você bebe? Agora, um último questionamento: e a <i>qualidade</i> dessa água? <i>Será que está apta para consumo?</i></p> \n",
    "\n",
    "<p style=\"text-align:justify\">A <b><font color=\"#4865A9\">água subterrânea</font></b> geralmente é uma fonte de água mais segura e confiável que a água superficial, no entanto, quando contaminada, tem um custo muito mais alto de recuperação, além de exigir um tempo muito longo nesse processo. Devido às suas inúmeras vantagens em relação à captação de águas superficiais, como a redução do custo de adução, geralmente possuir melhor qualidade, menor vulnerabilidade à poluição, menor impacto ambiental gerado pelo poço em comparação à uma barragem... o uso de mananciais subterrâneos tem sido usados cada vez mais como complementar aos superficiais em muitas regiões, em outras, a água subterrânea já é a principal fonte de abastecimento.</p>\n",
    "\n",
    "<img src=\"./imagens/captações de água.png\" width=\"60%\" height=\"60%\"/>\n",
    "<p style=\"text-align:center\"><font size=\"2\">Captação de água subterrânea por poço (figura à esquerda) e em manancial superficial por barramento (figura à direita)</font></p>\n",
    "\n",
    "<p style=\"text-align:justify\">Nesse sentido, é essencial que haja um <i>monitoramento e acompanhamento da qualidade da água desses mananciais subterrâneos</i>, de forma a auxiliar sua gestão e poder garantir suas funções: social, econômica e ambiental; bem como tranquilizar a população a respeito da água que chega em sua casa.</p>\n",
    "\n",
    "<img src=\"./imagens/caminhão.png\" width=\"40%\" height=\"40%\"/>"
   ]
  },
  {
   "cell_type": "markdown",
   "metadata": {},
   "source": [
    "<h2>Justificativa do projeto proposto</h2>\n",
    "\n",
    "<img src=\"https://www.hs-owl.de/fb7/edvwiki/images/3/3d/Fragezeichen.jpg\" width=\"25%\" height=\"25%\"/>\n",
    "\n",
    "<p style=\"text-align:justify\">A ideia deste projeto surgiu como uma demanda da professora doutora Cleuda Custódio Freire, CTEC/Ufal, que trabalha com foco de estudo em <font color=\"#4865A9\"><i>águas subterrâneas e gestão de recursos hídricos</i></font>. Assim, a partir da manifestação da professora quanto a posse de dados de monitoramento de qualidade da água de poços na região de Maceió-AL e possibilidade futura de continuidade do trabalho e análise, além do interesse em melhor visualização dos dados já existentes e auxílio na gestão de recursos hídricos, <b>o programa a ser desenvolvido buscará</b>:</p>\n",
    "\n",
    "<ul>\n",
    "\n",
    "<li style=\"color:#4865A9\"><span style=\"color:#000\">Facilitar a visualização e ajudar no monitoramento da situação da qualidade da água de poços.</span></li>\n",
    "\n",
    "</ul>"
   ]
  },
  {
   "cell_type": "markdown",
   "metadata": {},
   "source": [
    "<h2>Entrada e saída de dados</h2>\n",
    "\n",
    "<h3>Dados disponíveis</h3>\n",
    "\n",
    "<p style=\"text-align:justify\">Este projeto utilizará informações obtidas a partir do monitoramento de <b>18 poços</b> no município de Maceió-AL, disponibilizadas pela professora Cleuda Freire, referentes ao projeto de pesquisa intitulado “Integração dos instrumentos de outorga, enquadramento e cobrança para a gestão das águas subterrâneas - ASUB”. As séries consistem em dados de <b>14 parâmetros de qualidade de água</b>, para o período de <b>janeiro de 2009 a fevereiro de 2010</b>, coletados de forma bimensal. Os dados estão disponíveis em planilhas de um arquivo Excel.</p>\n",
    "\n",
    "<img src=\"./imagens/parâmetros.png\" width=\"28%\" height=\"28%\"/>\n",
    "<p style=\"text-align:center\"><font size=\"2\">Parâmetros monitorados</font></p>"
   ]
  },
  {
   "cell_type": "markdown",
   "metadata": {},
   "source": [
    "<h3>Visualização de dados</h3>\n",
    "\n",
    "<p style=\"text-align:justify\">O programa apresentará um <b>mapa</b> com a localização e <b>indicativo da qualidade da água</b> dos poços disponíveis, utilizando os valores de referência estabelecidos pela Portaria n° 518/2004 do Ministério da Saúde (MS) para os 14 parâmetros comparados aos do 3° quartil de cada um deles. Os poços em que algum dos parâmetros estiverem acima do valor da Portaria serão apresentados em vermelho e os demais em verde.</p>\n",
    "\n",
    "<img src=\"./imagens/sinalização.jpg\" width=\"35%\" height=\"35%\"/>\n",
    "\n",
    "<p style=\"text-align:justify\">Além da visualização em mapa, o aplicativo também permitirá que o usuário clique nos poços e obtenha outras informações sobre a água, como:</p>\n",
    "\n",
    "<ul>\n",
    "    \n",
    "<li style=\"color:#4865A9\"><span style=\"color:#000\"><b>Tabela</b> indicando os parâmetros que não antenderam, em pelo menos 75% das análises (3° quartil), os valores estabelecidos pela Portaria do MS, além da classificação de todos os parâmetros conforme a Resolução CONAMA n°396/2008;</span></li>\n",
    "<li style=\"color:#4865A9\"><span style=\"color:#000\"><b>Gráficos dos dados no tempo</b>, por parâmetro;</span></li>\n",
    "<li style=\"color:#4865A9\"><span style=\"color:#000\"><b>Gráficos em formato boxplot</b> dos parâmetros indicados como fora dos padrões.</span></li>\n",
    "\n",
    "</ul>\n",
    "\n",
    "<img src=\"./imagens/mapa_exemplo1.png\" width=\"50%\" height=\"50%\"/>\n",
    "<p style=\"text-align:center\"><font size=\"2\">Figura apenas ilustrativa do mapa com os poços identificados de acordo com a qualidade da água. Fonte: Google Earth</font></p>"
   ]
  },
  {
   "cell_type": "markdown",
   "metadata": {},
   "source": [
    "<h2>Como atingiremos nossos objetivos?</h2>\n",
    "\n",
    "<h3>Ferramentas utilizadas</h3>\n",
    "\n",
    "<p style=\"text-align:justify\">Para alcançarmos nossos objetivos será desenvolvido um programa utilizando a linguagem <a href=\"https://www.python.org/\">Python</a> e suas bibliotecas: <a href=\"https://pandas.pydata.org/\">pandas</a>, <a href=\"https://plot.ly/python/\">plotly</a>, <a href=\"https://matplotlib.org/\">matplotlib</a> e outras que forem necessárias, criação e manipulação de banco de dados (<a href=\"https://pt.wikipedia.org/wiki/SQL\">SQL</a>), com o auxílio de ferramentas de gerenciamento e compartilhamento de código, como o <a href=\"https://git-scm.com/\">Git</a> e o <a href=\"https://github.com/\">GitHub</a>, que facilitarão o desenvolvimento em equipe. Além dessas, a equipe utilizará plataformas de comunicação, como o <a href=\"https://slack.com/\">Slack</a> e o <a href=\"https://www.skype.com/pt-br/\">Skype</a>, para divisão de trabalhos e discussões sobre o projeto.</p>\n",
    "\n",
    "<img src=\"./imagens/ferramentas1.png\" width=\"50%\" height=\"50%\"/>\n",
    "<p style=\"text-align:center\"><font size=\"2\">Ferramentas utilizadas para desenvolvimento do projeto</font></p>"
   ]
  },
  {
   "cell_type": "markdown",
   "metadata": {},
   "source": [
    "<h3>Etapas de desenvolvimento</h3>\n",
    "\n",
    "<p style=\"text-align:justify\">Para desenvolvimento do programa a equipe seguirá as seguintes etapas:</p>\n",
    "\n",
    "<ul>\n",
    "    \n",
    "<li style=\"color:#4865A9\"><span style=\"color:#000\">Criação de <i>banco de dados</i> com informações obtidas a partir do arquivo Excel;</span></li>\n",
    "<li style=\"color:#4865A9\"><span style=\"color:#000\">Criação dos módulos para análise e visualização de dados em <i>tabelas e gráficos</i>;</span></li>\n",
    "<li style=\"color:#4865A9\"><span style=\"color:#000\">Criação do mapa interativo.</span></li>\n",
    "\n",
    "</ul>\n",
    "\n",
    "<img src=\"./imagens/resumo.png\"/>\n",
    "<p style=\"text-align:center\"><font size=\"2\">Resumão do projeto</font></p>"
   ]
  },
  {
   "cell_type": "markdown",
   "metadata": {},
   "source": [
    "<h3>Contato com o cliente e acompanhamento do projeto</h3>\n",
    "\n",
    "<p style=\"text-align:justify\">A equipe manterá contato constante com a professora interessada, além do professor da disciplina, para definição de passos e acompanhamento quanto ao atendimento correto da demanda de acordo com os interesses da cliente e melhores práticas de análise e programação.</p>"
   ]
  },
  {
   "cell_type": "markdown",
   "metadata": {},
   "source": [
    "<h2>Próximos passos...</h2>\n",
    "\n",
    "<ul>\n",
    "    \n",
    "<li style=\"color:#4865A9\"><span style=\"color:#000\">Estruturação do código em classes/funções e divisão de tarefas entre os membros da equipe;</span></li>\n",
    "<li style=\"color:#4865A9\"><span style=\"color:#000\">Estabelecimento de cronograma de entregas;</span></li>\n",
    "<li style=\"color:#4865A9\"><span style=\"color:#000\">Início do desenvolvimento.</span></li>\n",
    "\n",
    "</ul>"
   ]
  },
  {
   "cell_type": "markdown",
   "metadata": {},
   "source": [
    "<h2>Equipe de desenvolvimento</h2>\n",
    "\n",
    "<p><a href=\"https://github.com/ThainaLessa\">Thainá Lessa Cavalcante</a></p>\n",
    "Victor Emanoel Barros de Melo"
   ]
  },
  {
   "cell_type": "code",
   "execution_count": null,
   "metadata": {},
   "outputs": [],
   "source": []
  }
 ],
 "metadata": {
  "kernelspec": {
   "display_name": "Python 3",
   "language": "python",
   "name": "python3"
  },
  "language_info": {
   "codemirror_mode": {
    "name": "ipython",
    "version": 3
   },
   "file_extension": ".py",
   "mimetype": "text/x-python",
   "name": "python",
   "nbconvert_exporter": "python",
   "pygments_lexer": "ipython3",
   "version": "3.6.4"
  }
 },
 "nbformat": 4,
 "nbformat_minor": 2
}
