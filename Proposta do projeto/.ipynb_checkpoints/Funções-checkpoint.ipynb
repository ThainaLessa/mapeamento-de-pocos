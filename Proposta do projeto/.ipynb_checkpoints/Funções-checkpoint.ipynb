{
 "cells": [
  {
   "cell_type": "markdown",
   "metadata": {},
   "source": [
    "<b>Bibliotecas necessárias para importação:</b>"
   ]
  },
  {
   "cell_type": "code",
   "execution_count": null,
   "metadata": {},
   "outputs": [],
   "source": [
    "import pandas as pd\n",
    "\n",
    "import plotly.plotly as py\n",
    "import plotly.graph_objs as go\n",
    "\n",
    "import numpy as np"
   ]
  },
  {
   "cell_type": "markdown",
   "metadata": {},
   "source": [
    "<b>Arquivos de entrada:</b>"
   ]
  },
  {
   "cell_type": "code",
   "execution_count": null,
   "metadata": {},
   "outputs": [],
   "source": [
    "dados = 'dados.xls'\n",
    "portariaMS = 'Portaria.xls'\n",
    "coordenadas = 'poços.xls'\n",
    "conama396 = 'conama396.xls'"
   ]
  },
  {
   "cell_type": "markdown",
   "metadata": {},
   "source": [
    "<b>Leitura dos arquivo de entrada:</b>\n",
    "     <p><i>path1, path2, path3 e path4</i> = arquivos de entrada</p>\n",
    "     <p><i>sheets</i> = lista com nomes das planilhas existentes no arquivo</p>\n",
    "     <p><i>dic_df_dados</i> = dicionário de DataFrames dos parâmetros</p>\n",
    "     <p><i>df_portaria</i> = DataFrame com os valores de referência da Portaria do MS para análise da potabilidade</p>\n",
    "     <p><i>df_coord</i> = DataFrame com as coordenadas dos poços</p>\n",
    "     <p><i>df_conama</i> = DataFrame com os valores de referência da Conama 396 para classificação das águas</p>"
   ]
  },
  {
   "cell_type": "code",
   "execution_count": null,
   "metadata": {},
   "outputs": [],
   "source": [
    "def read_xls(path1, path2, path3):\n",
    "    return [sheets, dic_df_dados, df_portaria, df_coord, df_conama]"
   ]
  },
  {
   "cell_type": "markdown",
   "metadata": {},
   "source": [
    "<b>Análise das séries e mudança de valores:</b>\n",
    "<p><i>dic_df_change</i> = dicionário de DataFrame alterado</p>"
   ]
  },
  {
   "cell_type": "code",
   "execution_count": null,
   "metadata": {},
   "outputs": [],
   "source": [
    "def series_analyses(dic_df_dados, sheets):\n",
    "    '''\n",
    "    Serão alterados valores recebidos como asteriscos e hífens para troca por NaN e alteração das séries.\n",
    "    '''\n",
    "    return dic_df_change"
   ]
  },
  {
   "cell_type": "markdown",
   "metadata": {},
   "source": [
    "<b>Criar dicionário de DataFrames dos poços:</b>\n",
    "<p><i>dic_df_whells</i> = dicionário de DataFrames dos poços</p>"
   ]
  },
  {
   "cell_type": "code",
   "execution_count": null,
   "metadata": {},
   "outputs": [],
   "source": [
    "def data_whells(dic_df_change):\n",
    "    return dic_df_whells"
   ]
  },
  {
   "cell_type": "markdown",
   "metadata": {},
   "source": [
    "<b>Cálculo das estatísticas:</b>\n",
    "<p><i>dic_df_stats</i> = dicionário de DataFrames dos poços com dados de qualidade e estatísticas calculadas: mínimo, máximo, mediana e 3º quartil para cada parâmetro</p>"
   ]
  },
  {
   "cell_type": "code",
   "execution_count": null,
   "metadata": {},
   "outputs": [],
   "source": [
    "def calc_stats(dic_df_whells): \n",
    "    return dic_df_stats"
   ]
  },
  {
   "cell_type": "markdown",
   "metadata": {},
   "source": [
    "<b>Comparação do 3º quartil com o valor de referência estabelecido pela Portaria do MS\n",
    "para análise da potabilidade:</b> \n",
    "<p><i>dic_df_situation</i> = dicionário de DataFrames indicando a situação de cada \n",
    "parâmetro por poço, com DENTRO ou FORA, para dentro e fora dos padrões</p>"
   ]
  },
  {
   "cell_type": "code",
   "execution_count": null,
   "metadata": {},
   "outputs": [],
   "source": [
    "def comp_port(dic_df_stats, df_portaria):\n",
    "    return dic_df_situation"
   ]
  },
  {
   "cell_type": "markdown",
   "metadata": {},
   "source": [
    "<b>Comparação do 3º quartil com o valor de referência estabelecido pela CONAMA 396 para classificação da água:</b>\n",
    "<p><i>dic_df_class</i> = dicionário de DataFrames indicando a classificação atual da água dos poços</p>"
   ]
  },
  {
   "cell_type": "code",
   "execution_count": 1,
   "metadata": {},
   "outputs": [],
   "source": [
    "def comp_conama(dic_df_stats, df_conama):\n",
    "    return dic_df_class"
   ]
  },
  {
   "cell_type": "markdown",
   "metadata": {},
   "source": [
    "<b>Gráficos dos parâmetros que superaram o valor de referência da Portaria:</b>"
   ]
  },
  {
   "cell_type": "code",
   "execution_count": null,
   "metadata": {},
   "outputs": [],
   "source": [
    "def graphs(dic_df_stats, df_portaria):\n",
    "    '''Gráficos boxplot e temporal'''"
   ]
  },
  {
   "cell_type": "markdown",
   "metadata": {},
   "source": [
    "<b>Mapa da qualidade da água dos poços:</b>"
   ]
  },
  {
   "cell_type": "code",
   "execution_count": null,
   "metadata": {},
   "outputs": [],
   "source": [
    "def map_quality(dic_df_situation, df_coord):"
   ]
  }
 ],
 "metadata": {
  "kernelspec": {
   "display_name": "Python 3",
   "language": "python",
   "name": "python3"
  },
  "language_info": {
   "codemirror_mode": {
    "name": "ipython",
    "version": 3
   },
   "file_extension": ".py",
   "mimetype": "text/x-python",
   "name": "python",
   "nbconvert_exporter": "python",
   "pygments_lexer": "ipython3",
   "version": "3.6.4"
  }
 },
 "nbformat": 4,
 "nbformat_minor": 2
}
